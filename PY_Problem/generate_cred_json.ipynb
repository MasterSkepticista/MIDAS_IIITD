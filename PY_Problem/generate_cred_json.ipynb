{
 "cells": [
  {
   "cell_type": "markdown",
   "metadata": {},
   "source": [
    "# Export Credentials to a JSON File."
   ]
  },
  {
   "cell_type": "code",
   "execution_count": 7,
   "metadata": {},
   "outputs": [],
   "source": [
    "import json"
   ]
  },
  {
   "cell_type": "code",
   "execution_count": 8,
   "metadata": {},
   "outputs": [],
   "source": [
    "credentials = dict()\n",
    "credentials['API_KEY'] = \"gejP8MyL6ap7WjF8U4WOw5iKd\"\n",
    "credentials['API_SECRET'] = \"FtlE2M1LD5fNlzsqB5AV81NB0YpOaVfHws0VqUNcG8eTS2kz91\"\n",
    "credentials['ACCESS_KEY'] = \"933000550559313920-AjJkRloaqXitO24XNIFtulicaSvQzck\"\n",
    "credentials['ACCESS_SECRET'] = \"5kYIZKexXhiEZhuwvl9ykSYESqNwLlSgB51f1OEJW2Re8\"\n",
    "\n",
    "with open('credentials.json', 'w') as secret_info:\n",
    "    json.dump(credentials, secret_info, indent = 4)"
   ]
  },
  {
   "cell_type": "code",
   "execution_count": null,
   "metadata": {},
   "outputs": [],
   "source": []
  }
 ],
 "metadata": {
  "kernelspec": {
   "display_name": "Python 3",
   "language": "python",
   "name": "python3"
  },
  "language_info": {
   "codemirror_mode": {
    "name": "ipython",
    "version": 3
   },
   "file_extension": ".py",
   "mimetype": "text/x-python",
   "name": "python",
   "nbconvert_exporter": "python",
   "pygments_lexer": "ipython3",
   "version": "3.6.2"
  }
 },
 "nbformat": 4,
 "nbformat_minor": 2
}
