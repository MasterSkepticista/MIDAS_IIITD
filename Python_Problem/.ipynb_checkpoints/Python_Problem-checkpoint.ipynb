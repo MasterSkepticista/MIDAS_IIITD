{
 "cells": [
  {
   "cell_type": "markdown",
   "metadata": {},
   "source": [
    "# Import Libraries "
   ]
  },
  {
   "cell_type": "code",
   "execution_count": 30,
   "metadata": {},
   "outputs": [],
   "source": [
    "\n",
    "import json\n",
    "import jsonlines\n",
    "import tweepy "
   ]
  },
  {
   "cell_type": "markdown",
   "metadata": {},
   "source": [
    "## Load Twitter Credentials from the dictionary created earlier."
   ]
  },
  {
   "cell_type": "code",
   "execution_count": 31,
   "metadata": {},
   "outputs": [],
   "source": [
    "with open('credentials.json') as file:\n",
    "    keys = json.load(file)\n",
    "    API_KEY = keys['API_KEY']\n",
    "    API_SECRET = keys['API_SECRET']\n",
    "    ACCESS_KEY = keys['ACCESS_KEY']\n",
    "    ACCESS_SECRET = keys['ACCESS_SECRET']"
   ]
  },
  {
   "cell_type": "markdown",
   "metadata": {},
   "source": [
    "## Download Tweets from specified handle and store in a csv format"
   ]
  },
  {
   "cell_type": "code",
   "execution_count": 32,
   "metadata": {},
   "outputs": [],
   "source": [
    "def download_tweets(handle):\n",
    "\n",
    "    auth = tweepy.OAuthHandler(API_KEY, API_SECRET)\n",
    "    auth.set_access_token(ACCESS_KEY, ACCESS_SECRET)\n",
    "    api = tweepy.API(auth)\n",
    "\n",
    "    all_the_tweets = []\n",
    "\n",
    "    new_tweets = api.user_timeline(handle=handle, count=200)\n",
    "\n",
    "    all_the_tweets.extend(new_tweets)\n",
    "    oldest_tweet = all_the_tweets[-1].id - 1\n",
    "\n",
    "    while len(new_tweets)>0:\n",
    "        new_tweets = api.user_timeline(handle=handle,\n",
    "        count=200, max_id=oldest_tweet)\n",
    "\n",
    "        all_the_tweets.extend(new_tweets)\n",
    "\n",
    "        oldest_tweet = all_the_tweets[-1].id - 1\n",
    "\n",
    "    outtweets = [[tweet.id_str, tweet.created_at,\n",
    "    tweet.text.encode('utf-8')] for tweet in all_the_tweets]\n",
    "\n",
    "    with jsonlines.open(handle + '_tweets.jsonl', 'w', encoding='utf8') as f:\n",
    "        writer = jsonlines.writer(f)\n",
    "        writer.writerow(['id', 'created_at', 'text'])\n",
    "        writer.writerows(outtweets)\n",
    "\n"
   ]
  },
  {
   "cell_type": "code",
   "execution_count": 33,
   "metadata": {},
   "outputs": [
    {
     "name": "stdout",
     "output_type": "stream",
     "text": [
      "...346 tweets have been downloaded so far\n",
      "...346 tweets have been downloaded so far\n"
     ]
    }
   ],
   "source": [
    "if __name__ == '__main__':\n",
    "\n",
    "    download_tweets('midasIIITD')"
   ]
  },
  {
   "cell_type": "code",
   "execution_count": null,
   "metadata": {},
   "outputs": [],
   "source": []
  }
 ],
 "metadata": {
  "kernelspec": {
   "display_name": "Python 3",
   "language": "python",
   "name": "python3"
  },
  "language_info": {
   "codemirror_mode": {
    "name": "ipython",
    "version": 3
   },
   "file_extension": ".py",
   "mimetype": "text/x-python",
   "name": "python",
   "nbconvert_exporter": "python",
   "pygments_lexer": "ipython3",
   "version": "3.6.2"
  }
 },
 "nbformat": 4,
 "nbformat_minor": 2
}
