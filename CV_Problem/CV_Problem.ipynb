{
 "cells": [
  {
   "cell_type": "markdown",
   "metadata": {},
   "source": [
    "# CV Problem Solution Code for MIDAS:IIITD\n"
   ]
  },
  {
   "cell_type": "markdown",
   "metadata": {},
   "source": [
    "## Import Libraries"
   ]
  },
  {
   "cell_type": "markdown",
   "metadata": {},
   "source": [
    "### For extracting data from *.pkl file"
   ]
  },
  {
   "cell_type": "code",
   "execution_count": 37,
   "metadata": {},
   "outputs": [],
   "source": [
    "import pickle as pkl\n",
    "import numpy as np\n",
    "\n"
   ]
  },
  {
   "cell_type": "markdown",
   "metadata": {},
   "source": [
    "### For DL Model and Dataset ops"
   ]
  },
  {
   "cell_type": "code",
   "execution_count": 38,
   "metadata": {},
   "outputs": [],
   "source": [
    "import keras\n",
    "from keras.models import Sequential, Input, Model\n",
    "from keras.layers import Dense, Dropout, Flatten\n",
    "from keras.layers import Conv2D, MaxPooling2D\n",
    "from keras.layers.normalization import BatchNormalization\n",
    "from keras.layers.advanced_activations import LeakyReLU\n",
    "from keras.utils import to_categorical\n",
    "from keras import regularizers\n",
    "from sklearn.model_selection import train_test_split"
   ]
  },
  {
   "cell_type": "markdown",
   "metadata": {},
   "source": [
    "### For Generating Plots after training"
   ]
  },
  {
   "cell_type": "code",
   "execution_count": 39,
   "metadata": {},
   "outputs": [],
   "source": [
    "import matplotlib.cm as cm\n",
    "import matplotlib.pyplot as plt"
   ]
  },
  {
   "cell_type": "markdown",
   "metadata": {},
   "source": [
    "### Create Network Model\n",
    "A CNN is trained with the parameters in the snippet.\n",
    "The function returns 'history' dictionary, which holds accuracy, loss, val_acc, val_loss values over all epochs. The model also returns predictions for the testing dataset provided. The network has 100k parameters, approximately."
   ]
  },
  {
   "cell_type": "code",
   "execution_count": 40,
   "metadata": {},
   "outputs": [],
   "source": [
    "def network(batch_size, epochs, train_X, train_y, valid_X, valid_y):\n",
    "    ## Train\n",
    "    kernel_size = (3, 3)\n",
    "    model = Sequential()\n",
    "    # 16 Filters of the size of input image\n",
    "    model.add(Conv2D(16, kernel_size, activation = 'linear', input_shape = (28,28,1), padding = 'same'))\n",
    "    \n",
    "    # Negative gradient ratio of LeakyReLU activation\n",
    "    model.add(LeakyReLU(alpha = 0.1))\n",
    "    \n",
    "    # Store only the maximum values from the 2x2 window\n",
    "    model.add(MaxPooling2D((2,2), padding = 'same'))\n",
    "    \n",
    "    # 32 filters of half the size, 14x14\n",
    "    model.add(Conv2D(32, kernel_size, activation = 'linear', padding = 'same'))\n",
    "    \n",
    "    model.add(LeakyReLU(alpha = 0.01))\n",
    "    model.add(MaxPooling2D((2,2), padding = 'same'))\n",
    "    \n",
    "    # Flatten the layers into an array\n",
    "    model.add(Flatten())\n",
    "    \n",
    "    # Add 64 Densely connected units. Also called FC layer\n",
    "    model.add(Dense(64, activation = 'linear'))\n",
    "    model.add(LeakyReLU(alpha = 0.1))\n",
    "    \n",
    "    # Softmax to convert into class probabilities\n",
    "    model.add(Dense(num_classes, activation = 'softmax'))\n",
    "\n",
    "    model.compile(loss = keras.losses.categorical_crossentropy, optimizer = keras.optimizers.sgd(), metrics = ['accuracy'])\n",
    "    ## Optionally view model summary \n",
    "    # model.summary()\n",
    "\n",
    "    history = model.fit(train_X, train_y, batch_size = batch_size, epochs = epochs, verbose = 2, validation_data = (valid_X, valid_y))\n",
    "    test_y = model.predict_classes(test_X)\n",
    "\n",
    "    return history, test_y"
   ]
  },
  {
   "cell_type": "markdown",
   "metadata": {},
   "source": [
    "### This is the main code, executed in sequence.\n",
    "First, we visualize a sample image from the dataset, and its associated label."
   ]
  },
  {
   "cell_type": "code",
   "execution_count": 41,
   "metadata": {},
   "outputs": [
    {
     "data": {
      "image/png": "[encoded data removed]",
      "text/plain": [
       "<Figure size 432x288 with 1 Axes>"
      ]
     },
     "metadata": {
      "needs_background": "light"
     },
     "output_type": "display_data"
    },
    {
     "name": "stdout",
     "output_type": "stream",
     "text": [
      "========================================================================\n",
      "Training Data:(5600, 28, 28, 1)\n",
      "Validation Data:(2400, 28, 28, 1)\n",
      "Training Labels:(5600, 7)\n",
      "Validation Labels:(2400, 7)\n",
      "========================================================================\n",
      "Train on 5600 samples, validate on 2400 samples\n",
      "Epoch 1/10\n",
      " - 29s - loss: 0.7145 - acc: 0.7013 - val_loss: 0.5241 - val_acc: 0.7892\n",
      "Epoch 2/10\n",
      " - 28s - loss: 0.5047 - acc: 0.8009 - val_loss: 0.4387 - val_acc: 0.8325\n",
      "Epoch 3/10\n",
      " - 29s - loss: 0.4284 - acc: 0.8302 - val_loss: 0.4372 - val_acc: 0.8263\n",
      "Epoch 4/10\n",
      " - 31s - loss: 0.3824 - acc: 0.8498 - val_loss: 0.4227 - val_acc: 0.8358\n",
      "Epoch 5/10\n",
      " - 29s - loss: 0.3535 - acc: 0.8591 - val_loss: 0.4211 - val_acc: 0.8413\n",
      "Epoch 6/10\n",
      " - 28s - loss: 0.3233 - acc: 0.8732 - val_loss: 0.4230 - val_acc: 0.8408\n",
      "Epoch 7/10\n",
      " - 28s - loss: 0.3029 - acc: 0.8829 - val_loss: 0.4713 - val_acc: 0.8233\n",
      "Epoch 8/10\n",
      " - 28s - loss: 0.2687 - acc: 0.8975 - val_loss: 0.4261 - val_acc: 0.8500\n",
      "Epoch 9/10\n",
      " - 30s - loss: 0.2476 - acc: 0.9025 - val_loss: 0.4242 - val_acc: 0.8542\n",
      "Epoch 10/10\n",
      " - 28s - loss: 0.2209 - acc: 0.9134 - val_loss: 0.4829 - val_acc: 0.8313\n",
      "dict_keys(['val_loss', 'val_acc', 'loss', 'acc'])\n"
     ]
    },
    {
     "data": {
      "image/png": "[encoded data removed]",
      "text/plain": [
       "<Figure size 432x288 with 1 Axes>"
      ]
     },
     "metadata": {
      "needs_background": "light"
     },
     "output_type": "display_data"
    },
    {
     "data": {
      "image/png": "[encoded data removed]",
      "text/plain": [
       "<Figure size 432x288 with 1 Axes>"
      ]
     },
     "metadata": {
      "needs_background": "light"
     },
     "output_type": "display_data"
    },
    {
     "name": "stdout",
     "output_type": "stream",
     "text": [
      "[0 0 0 ... 6 6 6]\n"
     ]
    }
   ],
   "source": [
    "train_X, train_y, test_X, num_classes = extract()\n",
    "plt.imshow(train_X[0].reshape(28, 28), cmap = 'gray_r')\n",
    "plt.title('Associated Label:' + str(np.argmax(train_y[0])))\n",
    "plt.show()\n",
    "train_X, train_y, valid_X, valid_y = split(train_X, train_y)\n",
    "data_summary(train_X, train_y, valid_X, valid_y)\n",
    "history, predictions = network(1, 10, train_X, train_y, valid_X, valid_y)\n",
    "plots(history)\n",
    "print(predictions)\n"
   ]
  },
  {
   "cell_type": "markdown",
   "metadata": {},
   "source": [
    "### Results \n",
    "You can see the plots in the previous code snippet.\n",
    "For 10 epochs and batch_size of 1:\n",
    "\n",
    "Metric | Training Set (5600) | Validation Set (2400)\n",
    "-------|---------------------|----------------------\n",
    "Accuracy | 91% | 85%\n",
    "Loss | 0.22 | 0.43\n",
    "\n",
    "It is evident that model starts overfitting above 10 epochs."
   ]
  },
  {
   "cell_type": "markdown",
   "metadata": {},
   "source": [
    "### extract() Function to convert dataset to numpy arrays\n",
    "After converting to numpy arrays, the arrays are reshaped to 28x28 images, and normalized between 0-1 for 8-bit images"
   ]
  },
  {
   "cell_type": "code",
   "execution_count": 12,
   "metadata": {},
   "outputs": [],
   "source": [
    "def extract():\n",
    "\n",
    "    ## Unpack and prep Dataset\n",
    "    with open('train_image.pkl', 'rb') as ti:\n",
    "        train_X = pkl.load(ti)\n",
    "\n",
    "    with open('train_label.pkl', 'rb') as tl:\n",
    "        train_y = pkl.load(tl)\n",
    "\n",
    "    with open('test_image.pkl', 'rb') as test:\n",
    "        test_X = pkl.load(test)\n",
    "\n",
    "    # Lists -> arrays\n",
    "    train_X = np.asarray(train_X)\n",
    "    train_y = np.asarray(train_y)\n",
    "    test_X = np.asarray(test_X)\n",
    "\n",
    "    # Reshape X to matrix of 28x28 each\n",
    "    # -1 arg means self-inference\n",
    "    train_X = train_X.reshape(-1, 28, 28, 1)\n",
    "    test_X = test_X.reshape(-1, 28, 28, 1)\n",
    "    # Normalization\n",
    "    train_X = train_X.astype('float32')\n",
    "    test_X = test_X.astype('float32')\n",
    "    train_X = train_X / 255\n",
    "    test_X = test_X / 255\n",
    "\n",
    "    # One-hot labels\n",
    "    train_y = to_categorical(train_y)\n",
    "    num_classes = train_y.shape[1]\n",
    "    return train_X, train_y, test_X, num_classes"
   ]
  },
  {
   "cell_type": "markdown",
   "metadata": {},
   "source": [
    "### split() Function to divide the dataset into training and validation sets\n",
    "Used 70:30 ratio for Training and Validation, respectively."
   ]
  },
  {
   "cell_type": "code",
   "execution_count": 13,
   "metadata": {},
   "outputs": [],
   "source": [
    "def split(train_X, train_y):\n",
    "    train_X, valid_X, train_y, valid_y = train_test_split(train_X, train_y, test_size = 0.3)\n",
    "    return train_X, train_y, valid_X, valid_y"
   ]
  },
  {
   "cell_type": "markdown",
   "metadata": {},
   "source": [
    "### Summarize the whole dataset"
   ]
  },
  {
   "cell_type": "code",
   "execution_count": 14,
   "metadata": {},
   "outputs": [],
   "source": [
    "def data_summary(train_X, train_y, valid_X, valid_y):\n",
    "    print(\"========================================================================\")\n",
    "    print(\"Training Data:\" + str(train_X.shape))\n",
    "    print(\"Validation Data:\" + str(valid_X.shape))\n",
    "    print(\"Training Labels:\" + str(train_y.shape))\n",
    "    print(\"Validation Labels:\" + str(valid_y.shape))\n",
    "    print(\"========================================================================\")"
   ]
  },
  {
   "cell_type": "markdown",
   "metadata": {},
   "source": [
    "### This function plots the results from 'history' on invoke."
   ]
  },
  {
   "cell_type": "code",
   "execution_count": 16,
   "metadata": {},
   "outputs": [],
   "source": [
    "def plots(history):\n",
    "    print(history.history.keys())\n",
    "    # summarize history for accuracy\n",
    "    plt.plot(history.history['acc'])\n",
    "    plt.plot(history.history['val_acc'])\n",
    "    plt.title('model accuracy')\n",
    "    plt.ylabel('accuracy')\n",
    "    plt.xlabel('epoch')\n",
    "    plt.legend(['train', 'val'], loc='upper left')\n",
    "    plt.show()\n",
    "    # summarize history for loss\n",
    "    plt.plot(history.history['loss'])\n",
    "    plt.plot(history.history['val_loss'])\n",
    "    plt.title('model loss')\n",
    "    plt.ylabel('loss')\n",
    "    plt.xlabel('epoch')\n",
    "    plt.legend(['train', 'val'], loc='upper left')\n",
    "    plt.show()\n",
    "\n"
   ]
  }
 ],
 "metadata": {
  "kernelspec": {
   "display_name": "Python 3",
   "language": "python",
   "name": "python3"
  },
  "language_info": {
   "codemirror_mode": {
    "name": "ipython",
    "version": 3
   },
   "file_extension": ".py",
   "mimetype": "text/x-python",
   "name": "python",
   "nbconvert_exporter": "python",
   "pygments_lexer": "ipython3",
   "version": "3.6.2"
  }
 },
 "nbformat": 4,
 "nbformat_minor": 2
}
